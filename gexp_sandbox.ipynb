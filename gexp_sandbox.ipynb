{
 "cells": [
  {
   "cell_type": "code",
   "execution_count": null,
   "metadata": {},
   "outputs": [],
   "source": []
  },
  {
   "cell_type": "code",
   "execution_count": 41,
   "metadata": {},
   "outputs": [],
   "source": [
    "import gexpmath as gm\n",
    "import decimal\n",
    "D = decimal.Decimal\n",
    "alpha = D('1.5')\n",
    "p = D('2')\n",
    "u = D('1.3')"
   ]
  },
  {
   "cell_type": "code",
   "execution_count": 3,
   "metadata": {},
   "outputs": [],
   "source": []
  },
  {
   "cell_type": "code",
   "execution_count": 4,
   "metadata": {},
   "outputs": [],
   "source": []
  },
  {
   "cell_type": "code",
   "execution_count": null,
   "metadata": {},
   "outputs": [],
   "source": []
  },
  {
   "cell_type": "code",
   "execution_count": 7,
   "metadata": {},
   "outputs": [
    {
     "name": "stdout",
     "output_type": "stream",
     "text": [
      "P(n = 0) = 0.2011505897742408960847340205\n",
      "\n",
      "P(n = 1) = 0.2653652871094388010243106418\n",
      "\n",
      "P(n = 2) = 0.2211135075555211031537033823\n",
      "\n",
      "P(n = 3) = 0.1468173789246551010335105905\n",
      "\n",
      "P(n = 4) = 0.08444441811191377987917743517\n",
      "\n",
      "P(n = 5) = 0.04384024486059682846963594696\n",
      "\n",
      "P(n = 6) = 0.02104083742308121921539208003\n",
      "\n",
      "P(n = 7) = 0.009480102889262425736370441374\n",
      "\n",
      "P(n = 8) = 0.004052505924620143680532421877\n",
      "\n",
      "P(n = 9) = 0.001656283627796021204543621382\n",
      "\n"
     ]
    }
   ],
   "source": [
    "prob_array = []\n",
    "for i in range(10):\n",
    "    prob = gm.GNB_Probability(i, u, p, alpha)\n",
    "    prob_array.append(prob)\n",
    "    print(\"P(n = \", i, \") = \", prob, sep='')\n",
    "    print()"
   ]
  },
  {
   "cell_type": "code",
   "execution_count": 7,
   "metadata": {},
   "outputs": [
    {
     "data": {
      "text/plain": [
       "[Decimal('0.1612119194502114821076812380'),\n",
       " Decimal('0.2132940766825820995518150160'),\n",
       " Decimal('0.1951274317112909206057793964'),\n",
       " Decimal('0.1510833491524978476101967843'),\n",
       " Decimal('0.1059726125055504363091281380'),\n",
       " Decimal('0.06951979843115505905604981639'),\n",
       " Decimal('0.04341979947713341019453962309'),\n",
       " Decimal('0.02610528162344372652668892267'),\n",
       " Decimal('0.01522081392698612137647063499'),\n",
       " Decimal('0.008651306596292972792900449241')]"
      ]
     },
     "execution_count": 7,
     "metadata": {},
     "output_type": "execute_result"
    }
   ],
   "source": []
  },
  {
   "cell_type": "code",
   "execution_count": 8,
   "metadata": {},
   "outputs": [],
   "source": [
    "import matplotlib"
   ]
  },
  {
   "cell_type": "code",
   "execution_count": 9,
   "metadata": {
    "scrolled": true
   },
   "outputs": [
    {
     "name": "stderr",
     "output_type": "stream",
     "text": [
      "/anaconda3/lib/python3.7/site-packages/matplotlib/__init__.py:886: MatplotlibDeprecationWarning: \n",
      "examples.directory is deprecated; in the future, examples will be found relative to the 'datapath' directory.\n",
      "  \"found relative to the 'datapath' directory.\".format(key))\n"
     ]
    },
    {
     "name": "stdout",
     "output_type": "stream",
     "text": [
      "Help on package matplotlib:\n",
      "\n",
      "NAME\n",
      "    matplotlib - This is an object-oriented plotting library.\n",
      "\n",
      "DESCRIPTION\n",
      "    A procedural interface is provided by the companion pyplot module,\n",
      "    which may be imported directly, e.g.::\n",
      "    \n",
      "        import matplotlib.pyplot as plt\n",
      "    \n",
      "    or using ipython::\n",
      "    \n",
      "        ipython\n",
      "    \n",
      "    at your terminal, followed by::\n",
      "    \n",
      "        In [1]: %matplotlib\n",
      "        In [2]: import matplotlib.pyplot as plt\n",
      "    \n",
      "    at the ipython shell prompt.\n",
      "    \n",
      "    For the most part, direct use of the object-oriented library is\n",
      "    encouraged when programming; pyplot is primarily for working\n",
      "    interactively.  The\n",
      "    exceptions are the pyplot commands :func:`~matplotlib.pyplot.figure`,\n",
      "    :func:`~matplotlib.pyplot.subplot`,\n",
      "    :func:`~matplotlib.pyplot.subplots`, and\n",
      "    :func:`~pyplot.savefig`, which can greatly simplify scripting.\n",
      "    \n",
      "    Modules include:\n",
      "    \n",
      "        :mod:`matplotlib.axes`\n",
      "            defines the :class:`~matplotlib.axes.Axes` class.  Most pyplot\n",
      "            commands are wrappers for :class:`~matplotlib.axes.Axes`\n",
      "            methods.  The axes module is the highest level of OO access to\n",
      "            the library.\n",
      "    \n",
      "        :mod:`matplotlib.figure`\n",
      "            defines the :class:`~matplotlib.figure.Figure` class.\n",
      "    \n",
      "        :mod:`matplotlib.artist`\n",
      "            defines the :class:`~matplotlib.artist.Artist` base class for\n",
      "            all classes that draw things.\n",
      "    \n",
      "        :mod:`matplotlib.lines`\n",
      "            defines the :class:`~matplotlib.lines.Line2D` class for\n",
      "            drawing lines and markers\n",
      "    \n",
      "        :mod:`matplotlib.patches`\n",
      "            defines classes for drawing polygons\n",
      "    \n",
      "        :mod:`matplotlib.text`\n",
      "            defines the :class:`~matplotlib.text.Text`,\n",
      "            :class:`~matplotlib.text.TextWithDash`, and\n",
      "            :class:`~matplotlib.text.Annotate` classes\n",
      "    \n",
      "        :mod:`matplotlib.image`\n",
      "            defines the :class:`~matplotlib.image.AxesImage` and\n",
      "            :class:`~matplotlib.image.FigureImage` classes\n",
      "    \n",
      "        :mod:`matplotlib.collections`\n",
      "            classes for efficient drawing of groups of lines or polygons\n",
      "    \n",
      "        :mod:`matplotlib.colors`\n",
      "            classes for interpreting color specifications and for making\n",
      "            colormaps\n",
      "    \n",
      "        :mod:`matplotlib.cm`\n",
      "            colormaps and the :class:`~matplotlib.image.ScalarMappable`\n",
      "            mixin class for providing color mapping functionality to other\n",
      "            classes\n",
      "    \n",
      "        :mod:`matplotlib.ticker`\n",
      "            classes for calculating tick mark locations and for formatting\n",
      "            tick labels\n",
      "    \n",
      "        :mod:`matplotlib.backends`\n",
      "            a subpackage with modules for various gui libraries and output\n",
      "            formats\n",
      "    \n",
      "    The base matplotlib namespace includes:\n",
      "    \n",
      "        :data:`~matplotlib.rcParams`\n",
      "            a global dictionary of default configuration settings.  It is\n",
      "            initialized by code which may be overridden by a matplotlibrc\n",
      "            file.\n",
      "    \n",
      "        :func:`~matplotlib.rc`\n",
      "            a function for setting groups of rcParams values\n",
      "    \n",
      "        :func:`~matplotlib.use`\n",
      "            a function for setting the matplotlib backend.  If used, this\n",
      "            function must be called immediately after importing matplotlib\n",
      "            for the first time.  In particular, it must be called\n",
      "            **before** importing pyplot (if pyplot is imported).\n",
      "    \n",
      "    matplotlib was initially written by John D. Hunter (1968-2012) and is now\n",
      "    developed and maintained by a host of others.\n",
      "    \n",
      "    Occasionally the internal documentation (python docstrings) will refer\n",
      "    to MATLAB&reg;, a registered trademark of The MathWorks, Inc.\n",
      "\n",
      "PACKAGE CONTENTS\n",
      "    _animation_data\n",
      "    _cm\n",
      "    _cm_listed\n",
      "    _color_data\n",
      "    _constrained_layout\n",
      "    _contour\n",
      "    _image\n",
      "    _layoutbox\n",
      "    _mathtext_data\n",
      "    _path\n",
      "    _png\n",
      "    _pylab_helpers\n",
      "    _qhull\n",
      "    _tri\n",
      "    _version\n",
      "    afm\n",
      "    animation\n",
      "    artist\n",
      "    axes (package)\n",
      "    axis\n",
      "    backend_bases\n",
      "    backend_managers\n",
      "    backend_tools\n",
      "    backends (package)\n",
      "    bezier\n",
      "    blocking_input\n",
      "    category\n",
      "    cbook (package)\n",
      "    cm\n",
      "    collections\n",
      "    colorbar\n",
      "    colors\n",
      "    compat (package)\n",
      "    container\n",
      "    contour\n",
      "    dates\n",
      "    docstring\n",
      "    dviread\n",
      "    figure\n",
      "    font_manager\n",
      "    fontconfig_pattern\n",
      "    ft2font\n",
      "    gridspec\n",
      "    hatch\n",
      "    image\n",
      "    legend\n",
      "    legend_handler\n",
      "    lines\n",
      "    markers\n",
      "    mathtext\n",
      "    mlab\n",
      "    offsetbox\n",
      "    patches\n",
      "    path\n",
      "    patheffects\n",
      "    projections (package)\n",
      "    pylab\n",
      "    pyplot\n",
      "    quiver\n",
      "    rcsetup\n",
      "    sankey\n",
      "    scale\n",
      "    sphinxext (package)\n",
      "    spines\n",
      "    stackplot\n",
      "    streamplot\n",
      "    style (package)\n",
      "    table\n",
      "    testing (package)\n",
      "    texmanager\n",
      "    text\n",
      "    textpath\n",
      "    ticker\n",
      "    tight_bbox\n",
      "    tight_layout\n",
      "    transforms\n",
      "    tri (package)\n",
      "    ttconv\n",
      "    type1font\n",
      "    units\n",
      "    widgets\n",
      "\n",
      "CLASSES\n",
      "    builtins.dict(builtins.object)\n",
      "        RcParams(collections.abc.MutableMapping, builtins.dict)\n",
      "    builtins.object\n",
      "        Verbose\n",
      "        rc_context\n",
      "    collections.abc.MutableMapping(collections.abc.Mapping)\n",
      "        RcParams(collections.abc.MutableMapping, builtins.dict)\n",
      "    \n",
      "    class RcParams(collections.abc.MutableMapping, builtins.dict)\n",
      "     |  RcParams(*args, **kwargs)\n",
      "     |  \n",
      "     |  A dictionary object including validation\n",
      "     |  \n",
      "     |  validating functions are defined and associated with rc parameters in\n",
      "     |  :mod:`matplotlib.rcsetup`\n",
      "     |  \n",
      "     |  Method resolution order:\n",
      "     |      RcParams\n",
      "     |      collections.abc.MutableMapping\n",
      "     |      collections.abc.Mapping\n",
      "     |      collections.abc.Collection\n",
      "     |      collections.abc.Sized\n",
      "     |      collections.abc.Iterable\n",
      "     |      collections.abc.Container\n",
      "     |      builtins.dict\n",
      "     |      builtins.object\n",
      "     |  \n",
      "     |  Methods defined here:\n",
      "     |  \n",
      "     |  __getitem__(self, key)\n",
      "     |      x.__getitem__(y) <==> x[y]\n",
      "     |  \n",
      "     |  __init__(self, *args, **kwargs)\n",
      "     |      Initialize self.  See help(type(self)) for accurate signature.\n",
      "     |  \n",
      "     |  __iter__(self)\n",
      "     |      Yield sorted list of keys.\n",
      "     |  \n",
      "     |  __len__(self)\n",
      "     |      Return len(self).\n",
      "     |  \n",
      "     |  __repr__(self)\n",
      "     |      Return repr(self).\n",
      "     |  \n",
      "     |  __setitem__(self, key, val)\n",
      "     |      Set self[key] to value.\n",
      "     |  \n",
      "     |  __str__(self)\n",
      "     |      Return str(self).\n",
      "     |  \n",
      "     |  copy(self)\n",
      "     |      D.copy() -> a shallow copy of D\n",
      "     |  \n",
      "     |  find_all(self, pattern)\n",
      "     |      Return the subset of this RcParams dictionary whose keys match,\n",
      "     |      using :func:`re.search`, the given ``pattern``.\n",
      "     |      \n",
      "     |      .. note::\n",
      "     |      \n",
      "     |          Changes to the returned dictionary are *not* propagated to\n",
      "     |          the parent RcParams dictionary.\n",
      "     |  \n",
      "     |  ----------------------------------------------------------------------\n",
      "     |  Data descriptors defined here:\n",
      "     |  \n",
      "     |  __dict__\n",
      "     |      dictionary for instance variables (if defined)\n",
      "     |  \n",
      "     |  __weakref__\n",
      "     |      list of weak references to the object (if defined)\n",
      "     |  \n",
      "     |  msg_backend_obsolete\n",
      "     |      .. deprecated:: 3.0\n",
      "     |          The msg_backend_obsolete function was deprecated in Matplotlib 3.0 and will be removed in 3.2.\n",
      "     |      \n",
      "     |      \\\n",
      "     |  \n",
      "     |  msg_depr\n",
      "     |      .. deprecated:: 3.0\n",
      "     |          The msg_depr function was deprecated in Matplotlib 3.0 and will be removed in 3.2.\n",
      "     |      \n",
      "     |      \\\n",
      "     |  \n",
      "     |  msg_depr_ignore\n",
      "     |      .. deprecated:: 3.0\n",
      "     |          The msg_depr_ignore function was deprecated in Matplotlib 3.0 and will be removed in 3.2.\n",
      "     |      \n",
      "     |      \\\n",
      "     |  \n",
      "     |  msg_depr_set\n",
      "     |      .. deprecated:: 3.0\n",
      "     |          The msg_depr_set function was deprecated in Matplotlib 3.0 and will be removed in 3.2.\n",
      "     |      \n",
      "     |      \\\n",
      "     |  \n",
      "     |  msg_obsolete\n",
      "     |      .. deprecated:: 3.0\n",
      "     |          The msg_obsolete function was deprecated in Matplotlib 3.0 and will be removed in 3.2.\n",
      "     |      \n",
      "     |      \\\n",
      "     |  \n",
      "     |  ----------------------------------------------------------------------\n",
      "     |  Data and other attributes defined here:\n",
      "     |  \n",
      "     |  __abstractmethods__ = frozenset({'__delitem__'})\n",
      "     |  \n",
      "     |  validate = {'_internal.classic_mode': <function validate_bool>, 'agg.p...\n",
      "     |  \n",
      "     |  ----------------------------------------------------------------------\n",
      "     |  Methods inherited from collections.abc.MutableMapping:\n",
      "     |  \n",
      "     |  __delitem__(self, key)\n",
      "     |  \n",
      "     |  clear(self)\n",
      "     |      D.clear() -> None.  Remove all items from D.\n",
      "     |  \n",
      "     |  pop(self, key, default=<object object at 0x10de44070>)\n",
      "     |      D.pop(k[,d]) -> v, remove specified key and return the corresponding value.\n",
      "     |      If key is not found, d is returned if given, otherwise KeyError is raised.\n",
      "     |  \n",
      "     |  popitem(self)\n",
      "     |      D.popitem() -> (k, v), remove and return some (key, value) pair\n",
      "     |      as a 2-tuple; but raise KeyError if D is empty.\n",
      "     |  \n",
      "     |  setdefault(self, key, default=None)\n",
      "     |      D.setdefault(k[,d]) -> D.get(k,d), also set D[k]=d if k not in D\n",
      "     |  \n",
      "     |  update(*args, **kwds)\n",
      "     |      D.update([E, ]**F) -> None.  Update D from mapping/iterable E and F.\n",
      "     |      If E present and has a .keys() method, does:     for k in E: D[k] = E[k]\n",
      "     |      If E present and lacks .keys() method, does:     for (k, v) in E: D[k] = v\n",
      "     |      In either case, this is followed by: for k, v in F.items(): D[k] = v\n",
      "     |  \n",
      "     |  ----------------------------------------------------------------------\n",
      "     |  Methods inherited from collections.abc.Mapping:\n",
      "     |  \n",
      "     |  __contains__(self, key)\n",
      "     |  \n",
      "     |  __eq__(self, other)\n",
      "     |      Return self==value.\n",
      "     |  \n",
      "     |  get(self, key, default=None)\n",
      "     |      D.get(k[,d]) -> D[k] if k in D, else d.  d defaults to None.\n",
      "     |  \n",
      "     |  items(self)\n",
      "     |      D.items() -> a set-like object providing a view on D's items\n",
      "     |  \n",
      "     |  keys(self)\n",
      "     |      D.keys() -> a set-like object providing a view on D's keys\n",
      "     |  \n",
      "     |  values(self)\n",
      "     |      D.values() -> an object providing a view on D's values\n",
      "     |  \n",
      "     |  ----------------------------------------------------------------------\n",
      "     |  Data and other attributes inherited from collections.abc.Mapping:\n",
      "     |  \n",
      "     |  __hash__ = None\n",
      "     |  \n",
      "     |  __reversed__ = None\n",
      "     |  \n",
      "     |  ----------------------------------------------------------------------\n",
      "     |  Class methods inherited from collections.abc.Collection:\n",
      "     |  \n",
      "     |  __subclasshook__(C) from abc.ABCMeta\n",
      "     |      Abstract classes can override this to customize issubclass().\n",
      "     |      \n",
      "     |      This is invoked early on by abc.ABCMeta.__subclasscheck__().\n",
      "     |      It should return True, False or NotImplemented.  If it returns\n",
      "     |      NotImplemented, the normal algorithm is used.  Otherwise, it\n",
      "     |      overrides the normal algorithm (and the outcome is cached).\n",
      "     |  \n",
      "     |  ----------------------------------------------------------------------\n",
      "     |  Methods inherited from builtins.dict:\n",
      "     |  \n",
      "     |  __ge__(self, value, /)\n",
      "     |      Return self>=value.\n",
      "     |  \n",
      "     |  __getattribute__(self, name, /)\n",
      "     |      Return getattr(self, name).\n",
      "     |  \n",
      "     |  __gt__(self, value, /)\n",
      "     |      Return self>value.\n",
      "     |  \n",
      "     |  __le__(self, value, /)\n",
      "     |      Return self<=value.\n",
      "     |  \n",
      "     |  __lt__(self, value, /)\n",
      "     |      Return self<value.\n",
      "     |  \n",
      "     |  __ne__(self, value, /)\n",
      "     |      Return self!=value.\n",
      "     |  \n",
      "     |  __sizeof__(...)\n",
      "     |      D.__sizeof__() -> size of D in memory, in bytes\n",
      "     |  \n",
      "     |  ----------------------------------------------------------------------\n",
      "     |  Class methods inherited from builtins.dict:\n",
      "     |  \n",
      "     |  fromkeys(iterable, value=None, /) from abc.ABCMeta\n",
      "     |      Create a new dictionary with keys from iterable and values set to value.\n",
      "     |  \n",
      "     |  ----------------------------------------------------------------------\n",
      "     |  Static methods inherited from builtins.dict:\n",
      "     |  \n",
      "     |  __new__(*args, **kwargs) from builtins.type\n",
      "     |      Create and return a new object.  See help(type) for accurate signature.\n",
      "    \n",
      "    class Verbose(builtins.object)\n",
      "     |  A class to handle reporting.  Set the fileo attribute to any file\n",
      "     |  instance to handle the output.  Default is sys.stdout\n",
      "     |  \n",
      "     |  Methods defined here:\n",
      "     |  \n",
      "     |  __init__(self)\n",
      "     |      .. deprecated:: 2.2\n",
      "     |          matplotlib.verbose is deprecated;\n",
      "     |      Command line argument --verbose-LEVEL is deprecated.\n",
      "     |      This functionality is now provided by the standard\n",
      "     |      python logging library.  To get more (or less) logging output:\n",
      "     |          import logging\n",
      "     |          logger = logging.getLogger('matplotlib')\n",
      "     |          logger.set_level(logging.INFO)\n",
      "     |      \n",
      "     |      \\\n",
      "     |  \n",
      "     |  ge(self, level)\n",
      "     |      .. deprecated:: 2.2\n",
      "     |          matplotlib.verbose is deprecated;\n",
      "     |      Command line argument --verbose-LEVEL is deprecated.\n",
      "     |      This functionality is now provided by the standard\n",
      "     |      python logging library.  To get more (or less) logging output:\n",
      "     |          import logging\n",
      "     |          logger = logging.getLogger('matplotlib')\n",
      "     |          logger.set_level(logging.INFO)\n",
      "     |      \n",
      "     |      return true if self.level is >= level\n",
      "     |  \n",
      "     |  report(self, s, level='helpful')\n",
      "     |      .. deprecated:: 2.2\n",
      "     |          matplotlib.verbose is deprecated;\n",
      "     |      Command line argument --verbose-LEVEL is deprecated.\n",
      "     |      This functionality is now provided by the standard\n",
      "     |      python logging library.  To get more (or less) logging output:\n",
      "     |          import logging\n",
      "     |          logger = logging.getLogger('matplotlib')\n",
      "     |          logger.set_level(logging.INFO)\n",
      "     |      \n",
      "     |      print message s to self.fileo if self.level>=level.  Return\n",
      "     |      value indicates whether a message was issued\n",
      "     |  \n",
      "     |  set_fileo(self, fname)\n",
      "     |      .. deprecated:: 2.2\n",
      "     |          matplotlib.verbose is deprecated;\n",
      "     |      Command line argument --verbose-LEVEL is deprecated.\n",
      "     |      This functionality is now provided by the standard\n",
      "     |      python logging library.  To get more (or less) logging output:\n",
      "     |          import logging\n",
      "     |          logger = logging.getLogger('matplotlib')\n",
      "     |          logger.set_level(logging.INFO)\n",
      "     |      \n",
      "     |      \\\n",
      "     |  \n",
      "     |  set_level(self, level)\n",
      "     |      .. deprecated:: 2.2\n",
      "     |          matplotlib.verbose is deprecated;\n",
      "     |      Command line argument --verbose-LEVEL is deprecated.\n",
      "     |      This functionality is now provided by the standard\n",
      "     |      python logging library.  To get more (or less) logging output:\n",
      "     |          import logging\n",
      "     |          logger = logging.getLogger('matplotlib')\n",
      "     |          logger.set_level(logging.INFO)\n",
      "     |      \n",
      "     |      set the verbosity to one of the Verbose.levels strings\n",
      "     |  \n",
      "     |  wrap(self, fmt, func, level='helpful', always=True)\n",
      "     |      .. deprecated:: 2.2\n",
      "     |          matplotlib.verbose is deprecated;\n",
      "     |      Command line argument --verbose-LEVEL is deprecated.\n",
      "     |      This functionality is now provided by the standard\n",
      "     |      python logging library.  To get more (or less) logging output:\n",
      "     |          import logging\n",
      "     |          logger = logging.getLogger('matplotlib')\n",
      "     |          logger.set_level(logging.INFO)\n",
      "     |      \n",
      "     |      return a callable function that wraps func and reports it\n",
      "     |      output through the verbose handler if current verbosity level\n",
      "     |      is higher than level\n",
      "     |      \n",
      "     |      if always is True, the report will occur on every function\n",
      "     |      call; otherwise only on the first time the function is called\n",
      "     |  \n",
      "     |  ----------------------------------------------------------------------\n",
      "     |  Data descriptors defined here:\n",
      "     |  \n",
      "     |  __dict__\n",
      "     |      dictionary for instance variables (if defined)\n",
      "     |  \n",
      "     |  __weakref__\n",
      "     |      list of weak references to the object (if defined)\n",
      "     |  \n",
      "     |  ----------------------------------------------------------------------\n",
      "     |  Data and other attributes defined here:\n",
      "     |  \n",
      "     |  arg = '/Users/egortsvetkov/Library/Jupyter/runtime/kernel-b54440fd-2ec...\n",
      "     |  \n",
      "     |  levels = ('silent', 'helpful', 'debug', 'debug-annoying')\n",
      "     |  \n",
      "     |  vald = {'debug': 2, 'debug-annoying': 3, 'helpful': 1, 'silent': 0}\n",
      "    \n",
      "    class rc_context(builtins.object)\n",
      "     |  rc_context(rc=None, fname=None)\n",
      "     |  \n",
      "     |  Return a context manager for managing rc settings.\n",
      "     |  \n",
      "     |  This allows one to do::\n",
      "     |  \n",
      "     |      with mpl.rc_context(fname='screen.rc'):\n",
      "     |          plt.plot(x, a)\n",
      "     |          with mpl.rc_context(fname='print.rc'):\n",
      "     |              plt.plot(x, b)\n",
      "     |          plt.plot(x, c)\n",
      "     |  \n",
      "     |  The 'a' vs 'x' and 'c' vs 'x' plots would have settings from\n",
      "     |  'screen.rc', while the 'b' vs 'x' plot would have settings from\n",
      "     |  'print.rc'.\n",
      "     |  \n",
      "     |  A dictionary can also be passed to the context manager::\n",
      "     |  \n",
      "     |      with mpl.rc_context(rc={'text.usetex': True}, fname='screen.rc'):\n",
      "     |          plt.plot(x, a)\n",
      "     |  \n",
      "     |  The 'rc' dictionary takes precedence over the settings loaded from\n",
      "     |  'fname'.  Passing a dictionary only is also valid. For example a\n",
      "     |  common usage is::\n",
      "     |  \n",
      "     |      with mpl.rc_context(rc={'interactive': False}):\n",
      "     |          fig, ax = plt.subplots()\n",
      "     |          ax.plot(range(3), range(3))\n",
      "     |          fig.savefig('A.png', format='png')\n",
      "     |          plt.close(fig)\n",
      "     |  \n",
      "     |  Methods defined here:\n",
      "     |  \n",
      "     |  __enter__(self)\n",
      "     |  \n",
      "     |  __exit__(self, exc_type, exc_value, exc_tb)\n",
      "     |  \n",
      "     |  __init__(self, rc=None, fname=None)\n",
      "     |      Initialize self.  See help(type(self)) for accurate signature.\n",
      "     |  \n",
      "     |  ----------------------------------------------------------------------\n",
      "     |  Data descriptors defined here:\n",
      "     |  \n",
      "     |  __dict__\n",
      "     |      dictionary for instance variables (if defined)\n",
      "     |  \n",
      "     |  __weakref__\n",
      "     |      list of weak references to the object (if defined)\n",
      "\n",
      "FUNCTIONS\n",
      "    checkdep_dvipng()\n",
      "    \n",
      "    checkdep_ghostscript()\n",
      "    \n",
      "    checkdep_inkscape()\n",
      "    \n",
      "    checkdep_pdftops()\n",
      "    \n",
      "    checkdep_ps_distiller(s)\n",
      "    \n",
      "    checkdep_usetex(s)\n",
      "    \n",
      "    compare_versions(a, b)\n",
      "        return True if a is greater than or equal to b\n",
      "    \n",
      "    get_backend()\n",
      "        Return the name of the current backend.\n",
      "        \n",
      "        See Also\n",
      "        --------\n",
      "        matplotlib.use\n",
      "    \n",
      "    get_cachedir()\n",
      "        Return the location of the cache directory.\n",
      "        \n",
      "        The procedure used to find the directory is the same as for\n",
      "        _get_config_dir, except using `$XDG_CACHE_HOME`/`~/.cache` instead.\n",
      "    \n",
      "    get_configdir()\n",
      "        Return the string representing the configuration directory.\n",
      "        \n",
      "        The directory is chosen as follows:\n",
      "        \n",
      "        1. If the MPLCONFIGDIR environment variable is supplied, choose that.\n",
      "        2a. On Linux, follow the XDG specification and look first in\n",
      "            `$XDG_CONFIG_HOME`, if defined, or `$HOME/.config`.\n",
      "        2b. On other platforms, choose `$HOME/.matplotlib`.\n",
      "        3. If the chosen directory exists and is writable, use that as the\n",
      "           configuration directory.\n",
      "        4. If possible, create a temporary directory, and use it as the\n",
      "           configuration directory.\n",
      "        5. A writable directory could not be found or created; return None.\n",
      "    \n",
      "    get_data_path()\n",
      "    \n",
      "    get_home()\n",
      "        Return the user's home directory.\n",
      "        \n",
      "        If the user's home directory cannot be found, return None.\n",
      "    \n",
      "    get_py2exe_datafiles()\n",
      "    \n",
      "    interactive(b)\n",
      "        Set interactive mode to boolean b.\n",
      "        \n",
      "        If b is True, then draw after every plotting command, e.g., after xlabel\n",
      "    \n",
      "    is_interactive()\n",
      "        Return true if plot mode is interactive\n",
      "    \n",
      "    is_url(filename)\n",
      "        Return True if string is an http, ftp, or file URL path.\n",
      "    \n",
      "    matplotlib_fname()\n",
      "        Get the location of the config file.\n",
      "        \n",
      "        The file location is determined in the following order\n",
      "        \n",
      "        - `$PWD/matplotlibrc`\n",
      "        \n",
      "        - `$MATPLOTLIBRC` if it is a file (or a named pipe, which can be created\n",
      "          e.g. by process substitution)\n",
      "        \n",
      "        - `$MATPLOTLIBRC/matplotlibrc`\n",
      "        \n",
      "        - `$MPLCONFIGDIR/matplotlibrc`\n",
      "        \n",
      "        - On Linux,\n",
      "        \n",
      "              - `$XDG_CONFIG_HOME/matplotlib/matplotlibrc` (if\n",
      "                $XDG_CONFIG_HOME is defined)\n",
      "        \n",
      "              - or `$HOME/.config/matplotlib/matplotlibrc` (if\n",
      "                $XDG_CONFIG_HOME is not defined)\n",
      "        \n",
      "        - On other platforms,\n",
      "        \n",
      "             - `$HOME/.matplotlib/matplotlibrc` if `$HOME` is defined.\n",
      "        \n",
      "        - Lastly, it looks in `$MATPLOTLIBDATA/matplotlibrc` for a\n",
      "          system-defined copy.\n",
      "    \n",
      "    rc(group, **kwargs)\n",
      "        Set the current rc params.  *group* is the grouping for the rc, e.g.,\n",
      "        for ``lines.linewidth`` the group is ``lines``, for\n",
      "        ``axes.facecolor``, the group is ``axes``, and so on.  Group may\n",
      "        also be a list or tuple of group names, e.g., (*xtick*, *ytick*).\n",
      "        *kwargs* is a dictionary attribute name/value pairs, e.g.,::\n",
      "        \n",
      "          rc('lines', linewidth=2, color='r')\n",
      "        \n",
      "        sets the current rc params and is equivalent to::\n",
      "        \n",
      "          rcParams['lines.linewidth'] = 2\n",
      "          rcParams['lines.color'] = 'r'\n",
      "        \n",
      "        The following aliases are available to save typing for interactive\n",
      "        users:\n",
      "        \n",
      "        =====   =================\n",
      "        Alias   Property\n",
      "        =====   =================\n",
      "        'lw'    'linewidth'\n",
      "        'ls'    'linestyle'\n",
      "        'c'     'color'\n",
      "        'fc'    'facecolor'\n",
      "        'ec'    'edgecolor'\n",
      "        'mew'   'markeredgewidth'\n",
      "        'aa'    'antialiased'\n",
      "        =====   =================\n",
      "        \n",
      "        Thus you could abbreviate the above rc command as::\n",
      "        \n",
      "              rc('lines', lw=2, c='r')\n",
      "        \n",
      "        \n",
      "        Note you can use python's kwargs dictionary facility to store\n",
      "        dictionaries of default parameters.  e.g., you can customize the\n",
      "        font rc as follows::\n",
      "        \n",
      "          font = {'family' : 'monospace',\n",
      "                  'weight' : 'bold',\n",
      "                  'size'   : 'larger'}\n",
      "        \n",
      "          rc('font', **font)  # pass in the font dict as kwargs\n",
      "        \n",
      "        This enables you to easily switch between several configurations.  Use\n",
      "        ``matplotlib.style.use('default')`` or :func:`~matplotlib.rcdefaults` to\n",
      "        restore the default rc params after changes.\n",
      "    \n",
      "    rc_file(fname)\n",
      "        Update rc params from file.\n",
      "        \n",
      "        Style-blacklisted rc params (defined in\n",
      "        `matplotlib.style.core.STYLE_BLACKLIST`) are not updated.\n",
      "    \n",
      "    rc_file_defaults()\n",
      "        Restore the rc params from the original rc file loaded by Matplotlib.\n",
      "        \n",
      "        Style-blacklisted rc params (defined in\n",
      "        `matplotlib.style.core.STYLE_BLACKLIST`) are not updated.\n",
      "    \n",
      "    rc_params(fail_on_error=False)\n",
      "        Return a :class:`matplotlib.RcParams` instance from the\n",
      "        default matplotlib rc file.\n",
      "    \n",
      "    rc_params_from_file(fname, fail_on_error=False, use_default_template=True)\n",
      "        Return :class:`matplotlib.RcParams` from the contents of the given file.\n",
      "        \n",
      "        Parameters\n",
      "        ----------\n",
      "        fname : str\n",
      "            Name of file parsed for matplotlib settings.\n",
      "        fail_on_error : bool\n",
      "            If True, raise an error when the parser fails to convert a parameter.\n",
      "        use_default_template : bool\n",
      "            If True, initialize with default parameters before updating with those\n",
      "            in the given file. If False, the configuration class only contains the\n",
      "            parameters specified in the file. (Useful for updating dicts.)\n",
      "    \n",
      "    rcdefaults()\n",
      "        Restore the rc params from Matplotlib's internal default style.\n",
      "        \n",
      "        Style-blacklisted rc params (defined in\n",
      "        `matplotlib.style.core.STYLE_BLACKLIST`) are not updated.\n",
      "        \n",
      "        See Also\n",
      "        --------\n",
      "        rc_file_defaults :\n",
      "            Restore the rc params from the rc file originally loaded by Matplotlib.\n",
      "        matplotlib.style.use :\n",
      "            Use a specific style file.  Call ``style.use('default')`` to restore\n",
      "            the default style.\n",
      "    \n",
      "    test(verbosity=None, coverage=False, switch_backend_warn=True, recursionlimit=0, **kwargs)\n",
      "        run the matplotlib test suite\n",
      "    \n",
      "    tk_window_focus()\n",
      "        Return true if focus maintenance under TkAgg on win32 is on.\n",
      "        This currently works only for python.exe and IPython.exe.\n",
      "        Both IDLE and Pythonwin.exe fail badly when tk_window_focus is on.\n",
      "    \n",
      "    use(arg, warn=False, force=True)\n",
      "        Set the matplotlib backend to one of the known backends.\n",
      "        \n",
      "        Parameters\n",
      "        ----------\n",
      "        arg : str\n",
      "            The backend to switch to.  This can either be one of the\n",
      "            'standard' backend names:\n",
      "        \n",
      "            - interactive backends:\n",
      "              GTK3Agg, GTK3Cairo, MacOSX, nbAgg,\n",
      "              Qt4Agg, Qt4Cairo, Qt5Agg, Qt5Cairo,\n",
      "              TkAgg, TkCairo, WebAgg, WX, WXAgg, WXCairo\n",
      "        \n",
      "            - non-interactive backends:\n",
      "              agg, cairo, pdf, pgf, ps, svg, template\n",
      "        \n",
      "            or a string of the form: ``module://my.module.name``.\n",
      "        \n",
      "            Note: Standard backend names are case-insensitive here.\n",
      "        \n",
      "        warn : bool, optional\n",
      "            If True, warn if this is called after pyplot has been imported\n",
      "            and a backend is set up.\n",
      "        \n",
      "            defaults to False.\n",
      "        \n",
      "        force : bool, optional\n",
      "            If True, attempt to switch the backend.   An ImportError is raised if\n",
      "            an interactive backend is selected, but another interactive\n",
      "            backend has already started.  This defaults to True.\n",
      "        \n",
      "        See Also\n",
      "        --------\n",
      "        :ref:`backends`\n",
      "        matplotlib.get_backend\n",
      "\n",
      "DATA\n",
      "    URL_REGEX = re.compile('http://|https://|ftp://|file://|file:\\\\\\\\')\n",
      "    __bibtex__ = '@Article{Hunter:2007,\\n  Author    = {Hunter, J. ...ishe...\n",
      "    __version__numpy__ = '1.10.0'\n",
      "    __warningregistry__ = {'version': 42}\n",
      "    defaultParams = {'_internal.classic_mode': [False, <function validate_...\n",
      "    default_test_modules = ['matplotlib.tests', 'matplotlib.sphinxext.test...\n",
      "    rcParams = RcParams({'_internal.classic_mode': False,\n",
      "         ...nor.widt...\n",
      "    rcParamsDefault = RcParams({'_internal.classic_mode': False,\n",
      "         ...n...\n",
      "    rcParamsOrig = RcParams({'_internal.classic_mode': False,\n",
      "         ...nor....\n",
      "    verbose = <matplotlib.Verbose object>\n",
      "\n",
      "VERSION\n",
      "    3.0.3\n",
      "\n",
      "FILE\n",
      "    /anaconda3/lib/python3.7/site-packages/matplotlib/__init__.py\n",
      "\n",
      "\n"
     ]
    },
    {
     "name": "stderr",
     "output_type": "stream",
     "text": [
      "/anaconda3/lib/python3.7/site-packages/matplotlib/__init__.py:886: MatplotlibDeprecationWarning: \n",
      "examples.directory is deprecated; in the future, examples will be found relative to the 'datapath' directory.\n",
      "  \"found relative to the 'datapath' directory.\".format(key))\n",
      "/anaconda3/lib/python3.7/site-packages/matplotlib/__init__.py:886: MatplotlibDeprecationWarning: \n",
      "examples.directory is deprecated; in the future, examples will be found relative to the 'datapath' directory.\n",
      "  \"found relative to the 'datapath' directory.\".format(key))\n"
     ]
    }
   ],
   "source": [
    "help(matplotlib)"
   ]
  },
  {
   "cell_type": "code",
   "execution_count": 55,
   "metadata": {},
   "outputs": [],
   "source": [
    "import matplotlib.pyplot as plt"
   ]
  },
  {
   "cell_type": "code",
   "execution_count": 32,
   "metadata": {},
   "outputs": [
    {
     "data": {
      "text/plain": [
       "<Figure size 1152x576 with 0 Axes>"
      ]
     },
     "execution_count": 32,
     "metadata": {},
     "output_type": "execute_result"
    },
    {
     "data": {
      "text/plain": [
       "<Figure size 1152x576 with 0 Axes>"
      ]
     },
     "metadata": {},
     "output_type": "display_data"
    }
   ],
   "source": [
    "plt.figure(111, figsize=(16,8))"
   ]
  },
  {
   "cell_type": "code",
   "execution_count": 13,
   "metadata": {},
   "outputs": [
    {
     "name": "stdout",
     "output_type": "stream",
     "text": [
      "Help on function figure in module matplotlib.pyplot:\n",
      "\n",
      "figure(num=None, figsize=None, dpi=None, facecolor=None, edgecolor=None, frameon=True, FigureClass=<class 'matplotlib.figure.Figure'>, clear=False, **kwargs)\n",
      "    Create a new figure.\n",
      "    \n",
      "    Parameters\n",
      "    ----------\n",
      "    \n",
      "    num : integer or string, optional, default: None\n",
      "        If not provided, a new figure will be created, and the figure number\n",
      "        will be incremented. The figure objects holds this number in a `number`\n",
      "        attribute.\n",
      "        If num is provided, and a figure with this id already exists, make\n",
      "        it active, and returns a reference to it. If this figure does not\n",
      "        exists, create it and returns it.\n",
      "        If num is a string, the window title will be set to this figure's\n",
      "        `num`.\n",
      "    \n",
      "    figsize : (float, float), optional, default: None\n",
      "        width, height in inches. If not provided, defaults to\n",
      "        :rc:`figure.figsize` = ``[6.4, 4.8]``.\n",
      "    \n",
      "    dpi : integer, optional, default: None\n",
      "        resolution of the figure. If not provided, defaults to\n",
      "        :rc:`figure.dpi` = ``100``.\n",
      "    \n",
      "    facecolor :\n",
      "        the background color. If not provided, defaults to\n",
      "        :rc:`figure.facecolor` = ``'w'``.\n",
      "    \n",
      "    edgecolor :\n",
      "        the border color. If not provided, defaults to\n",
      "        :rc:`figure.edgecolor` = ``'w'``.\n",
      "    \n",
      "    frameon : bool, optional, default: True\n",
      "        If False, suppress drawing the figure frame.\n",
      "    \n",
      "    FigureClass : subclass of `~matplotlib.figure.Figure`\n",
      "        Optionally use a custom `.Figure` instance.\n",
      "    \n",
      "    clear : bool, optional, default: False\n",
      "        If True and the figure already exists, then it is cleared.\n",
      "    \n",
      "    Returns\n",
      "    -------\n",
      "    figure : `~matplotlib.figure.Figure`\n",
      "        The `.Figure` instance returned will also be passed to new_figure_manager\n",
      "        in the backends, which allows to hook custom `.Figure` classes into the\n",
      "        pyplot interface. Additional kwargs will be passed to the `.Figure`\n",
      "        init function.\n",
      "    \n",
      "    Notes\n",
      "    -----\n",
      "    If you are creating many figures, make sure you explicitly call\n",
      "    :func:`.pyplot.close` on the figures you are not using, because this will\n",
      "    enable pyplot to properly clean up the memory.\n",
      "    \n",
      "    `~matplotlib.rcParams` defines the default values, which can be modified\n",
      "    in the matplotlibrc file.\n",
      "\n"
     ]
    }
   ],
   "source": [
    "help(plt.figure)"
   ]
  },
  {
   "cell_type": "code",
   "execution_count": 15,
   "metadata": {},
   "outputs": [
    {
     "data": {
      "text/plain": [
       "[0, 1, 2, 3, 4, 5, 6, 7, 8, 9]"
      ]
     },
     "execution_count": 15,
     "metadata": {},
     "output_type": "execute_result"
    }
   ],
   "source": [
    "list(range(10))"
   ]
  },
  {
   "cell_type": "code",
   "execution_count": 17,
   "metadata": {},
   "outputs": [
    {
     "data": {
      "text/plain": [
       "[<matplotlib.lines.Line2D at 0x1256dfc18>]"
      ]
     },
     "execution_count": 17,
     "metadata": {},
     "output_type": "execute_result"
    },
    {
     "data": {
      "image/png": "[encoded data removed]",
      "text/plain": [
       "<Figure size 432x288 with 1 Axes>"
      ]
     },
     "metadata": {
      "needs_background": "light"
     },
     "output_type": "display_data"
    }
   ],
   "source": [
    "plt.plot(list(range(10)), prob_array)"
   ]
  },
  {
   "cell_type": "code",
   "execution_count": 5,
   "metadata": {},
   "outputs": [],
   "source": [
    "from scipy import interpolate"
   ]
  },
  {
   "cell_type": "code",
   "execution_count": 6,
   "metadata": {},
   "outputs": [],
   "source": [
    "from scipy.interpolate import interp1d"
   ]
  },
  {
   "cell_type": "code",
   "execution_count": 60,
   "metadata": {},
   "outputs": [],
   "source": [
    "x = list(range(10))\n",
    "y = prob_array"
   ]
  },
  {
   "cell_type": "code",
   "execution_count": 61,
   "metadata": {},
   "outputs": [],
   "source": [
    "f1 = interp1d(x, y)"
   ]
  },
  {
   "cell_type": "code",
   "execution_count": 62,
   "metadata": {},
   "outputs": [
    {
     "data": {
      "text/plain": [
       "[<matplotlib.lines.Line2D at 0xb288793c8>]"
      ]
     },
     "execution_count": 62,
     "metadata": {},
     "output_type": "execute_result"
    },
    {
     "data": {
      "image/png": "[encoded data removed]",
      "text/plain": [
       "<Figure size 432x288 with 1 Axes>"
      ]
     },
     "metadata": {
      "needs_background": "light"
     },
     "output_type": "display_data"
    }
   ],
   "source": [
    "plt.plot(x, f1(x))"
   ]
  },
  {
   "cell_type": "code",
   "execution_count": 63,
   "metadata": {},
   "outputs": [],
   "source": [
    "f2 = interp1d(x, y, kind='cubic')"
   ]
  },
  {
   "cell_type": "code",
   "execution_count": 5,
   "metadata": {},
   "outputs": [],
   "source": [
    "import numpy as np"
   ]
  },
  {
   "cell_type": "code",
   "execution_count": 88,
   "metadata": {},
   "outputs": [],
   "source": [
    "x100 = np.linspace(0, 9, 90)"
   ]
  },
  {
   "cell_type": "code",
   "execution_count": 94,
   "metadata": {},
   "outputs": [
    {
     "data": {
      "text/plain": [
       "[<matplotlib.lines.Line2D at 0xb28d86e10>]"
      ]
     },
     "execution_count": 94,
     "metadata": {},
     "output_type": "execute_result"
    },
    {
     "data": {
      "image/png": "[encoded data removed]",
      "text/plain": [
       "<Figure size 432x288 with 1 Axes>"
      ]
     },
     "metadata": {
      "needs_background": "light"
     },
     "output_type": "display_data"
    }
   ],
   "source": [
    "plt.plot(x, f2(x), 'o')"
   ]
  },
  {
   "cell_type": "code",
   "execution_count": 9,
   "metadata": {},
   "outputs": [],
   "source": [
    "import random\n",
    "from datetime import datetime"
   ]
  },
  {
   "cell_type": "code",
   "execution_count": 34,
   "metadata": {},
   "outputs": [],
   "source": [
    "N = 10000\n",
    "experiments = []\n",
    "random.seed(datetime.now())\n",
    "for i in range(N):\n",
    "    pr = random.random()\n",
    "    j = 0\n",
    "    cumprob = 0\n",
    "    while (j < 10):\n",
    "        cumprob += prob_array[j]\n",
    "        if (cumprob > pr):\n",
    "            break\n",
    "        j += 1\n",
    "    experiments.append(j)"
   ]
  },
  {
   "cell_type": "code",
   "execution_count": 35,
   "metadata": {},
   "outputs": [],
   "source": [
    "hist = np.histogram(experiments)"
   ]
  },
  {
   "cell_type": "code",
   "execution_count": 36,
   "metadata": {},
   "outputs": [
    {
     "data": {
      "text/plain": [
       "array([2009, 2625, 2210, 1516,  863,  420,  209,   79,   37,   32])"
      ]
     },
     "execution_count": 36,
     "metadata": {},
     "output_type": "execute_result"
    }
   ],
   "source": [
    "hist[0]"
   ]
  },
  {
   "cell_type": "code",
   "execution_count": 37,
   "metadata": {},
   "outputs": [],
   "source": [
    "tp = [float(N * x) for x in prob_array]"
   ]
  },
  {
   "cell_type": "code",
   "execution_count": 38,
   "metadata": {},
   "outputs": [
    {
     "data": {
      "text/plain": [
       "[2011.505897742409,\n",
       " 2653.652871094388,\n",
       " 2211.135075555211,\n",
       " 1468.173789246551,\n",
       " 844.4441811191379,\n",
       " 438.4024486059683,\n",
       " 210.4083742308122,\n",
       " 94.80102889262426,\n",
       " 40.52505924620144,\n",
       " 16.562836277960212]"
      ]
     },
     "execution_count": 38,
     "metadata": {},
     "output_type": "execute_result"
    }
   ],
   "source": [
    "tp"
   ]
  },
  {
   "cell_type": "code",
   "execution_count": 96,
   "metadata": {},
   "outputs": [],
   "source": [
    "from collections import Counter"
   ]
  },
  {
   "cell_type": "code",
   "execution_count": 97,
   "metadata": {},
   "outputs": [
    {
     "data": {
      "text/plain": [
       "Counter({1: 14, 0: 11, 4: 16, 2: 21, 3: 26, 8: 2, 7: 3, 10: 2, 6: 1, 5: 4})"
      ]
     },
     "execution_count": 97,
     "metadata": {},
     "output_type": "execute_result"
    }
   ],
   "source": [
    "Counter(experiments)"
   ]
  },
  {
   "cell_type": "code",
   "execution_count": 102,
   "metadata": {},
   "outputs": [
    {
     "data": {
      "text/plain": [
       "dict_values([14, 11, 16, 21, 26, 2, 3, 2, 1, 4])"
      ]
     },
     "execution_count": 102,
     "metadata": {},
     "output_type": "execute_result"
    }
   ],
   "source": [
    "Counter(experiments).values()"
   ]
  },
  {
   "cell_type": "code",
   "execution_count": 12,
   "metadata": {},
   "outputs": [],
   "source": [
    "from scipy.stats import chisquare"
   ]
  },
  {
   "cell_type": "code",
   "execution_count": 39,
   "metadata": {},
   "outputs": [
    {
     "data": {
      "text/plain": [
       "Power_divergenceResult(statistic=20.388944501611157, pvalue=0.0023606197861894486)"
      ]
     },
     "execution_count": 39,
     "metadata": {},
     "output_type": "execute_result"
    }
   ],
   "source": [
    "chisquare(hist[0], tp)"
   ]
  },
  {
   "cell_type": "code",
   "execution_count": 110,
   "metadata": {},
   "outputs": [
    {
     "data": {
      "text/plain": [
       "[Decimal('0.1612119194502114821076812380'),\n",
       " Decimal('0.2132940766825820995518150160'),\n",
       " Decimal('0.1951274317112909206057793964'),\n",
       " Decimal('0.1510833491524978476101967843'),\n",
       " Decimal('0.1059726125055504363091281380'),\n",
       " Decimal('0.06951979843115505905604981639'),\n",
       " Decimal('0.04341979947713341019453962309'),\n",
       " Decimal('0.02610528162344372652668892267'),\n",
       " Decimal('0.01522081392698612137647063499'),\n",
       " Decimal('0.008651306596292972792900449241')]"
      ]
     },
     "execution_count": 110,
     "metadata": {},
     "output_type": "execute_result"
    }
   ],
   "source": [
    "prob_array"
   ]
  },
  {
   "cell_type": "code",
   "execution_count": 123,
   "metadata": {},
   "outputs": [],
   "source": [
    "dist = []\n",
    "for val in prob_array:\n",
    "    dist.append(float(val))"
   ]
  },
  {
   "cell_type": "code",
   "execution_count": 118,
   "metadata": {},
   "outputs": [
    {
     "data": {
      "text/plain": [
       "[0.1612119194502115,\n",
       " 0.2132940766825821,\n",
       " 0.19512743171129093,\n",
       " 0.15108334915249785,\n",
       " 0.10597261250555044,\n",
       " 0.06951979843115506,\n",
       " 0.04341979947713341,\n",
       " 0.026105281623443728,\n",
       " 0.015220813926986121,\n",
       " 0.008651306596292973]"
      ]
     },
     "execution_count": 118,
     "metadata": {},
     "output_type": "execute_result"
    }
   ],
   "source": [
    "dist"
   ]
  },
  {
   "cell_type": "code",
   "execution_count": 119,
   "metadata": {},
   "outputs": [
    {
     "data": {
      "text/plain": [
       "[Decimal('0.1612119194502114821076812380'),\n",
       " Decimal('0.2132940766825820995518150160'),\n",
       " Decimal('0.1951274317112909206057793964'),\n",
       " Decimal('0.1510833491524978476101967843'),\n",
       " Decimal('0.1059726125055504363091281380'),\n",
       " Decimal('0.06951979843115505905604981639'),\n",
       " Decimal('0.04341979947713341019453962309'),\n",
       " Decimal('0.02610528162344372652668892267'),\n",
       " Decimal('0.01522081392698612137647063499'),\n",
       " Decimal('0.008651306596292972792900449241')]"
      ]
     },
     "execution_count": 119,
     "metadata": {},
     "output_type": "execute_result"
    }
   ],
   "source": [
    "prob_array"
   ]
  },
  {
   "cell_type": "code",
   "execution_count": 146,
   "metadata": {},
   "outputs": [],
   "source": [
    "\n",
    "class GNBDistribution(object):\n",
    "    \"\"\"docstring for GNBDistribution\"\"\"\n",
    "\n",
    "    def __init__(self, alpha, p, u, max_n=10):\n",
    "        self.alpha = alpha\n",
    "        self.p = p\n",
    "        self.u = u\n",
    "        self.max_n = max_n\n",
    "        self.probabilities = [None] * self.max_n\n",
    "        self.cum_probabilities = [None] * self.max_n\n",
    "        for i in range(self.max_n):\n",
    "            self.probabilities[i] = gm.GNB_Probability(i, self.alpha, self.p, self.u)\n",
    "            if i == 0:\n",
    "                self.cum_probabilities[i] = self.probabilities[i]\n",
    "            else:\n",
    "                self.cum_probabilities[i] = self.cum_probabilities[i - 1] + self.probabilities[i]\n",
    "\n",
    "        self.sample = None\n",
    "        self.num_of_outliers = None\n",
    "\n",
    "    def generate_sample(self, sample_size=1000):\n",
    "        self.sample = [None] * sample_size\n",
    "        random.seed(datetime.now())\n",
    "        self.num_of_outliers = 0\n",
    "        for i in range(sample_size):\n",
    "            pr = random.random()\n",
    "            j = 0\n",
    "            while j < len(self.cum_probabilities) and self.cum_probabilities[j] < pr:\n",
    "                j += 1\n",
    "\n",
    "            self.sample[i] = j\n",
    "            if j == self.max_n:\n",
    "                self.num_of_outliers += 1\n",
    "\n",
    "        return self.sample\n",
    "\n",
    "    def make_hist_dict(self, no_outliers=False):\n",
    "        if self.sample is None:\n",
    "            raise(Exception(\"No sample in object. Call object.generate_sample(sample_size) before calling this function\"))\n",
    "\n",
    "        hist = np.histogram(self.sample, self.max_n + 1, range=(0, self.max_n + 1))\n",
    "\n",
    "        x = hist[1][:-1]\n",
    "        y = hist[0]\n",
    "        if no_outliers and self.max_n in x:\n",
    "            x = x[:-1]\n",
    "            y = y[:-1]\n",
    "\n",
    "        return {'x': x, 'y': y}\n",
    "\n",
    "    def __str__(self):\n",
    "        return f\"GNB(\\u03B1={self.alpha}, p={self.p}, u={self.u})\""
   ]
  },
  {
   "cell_type": "code",
   "execution_count": 147,
   "metadata": {},
   "outputs": [],
   "source": [
    "dist = GNBDistribution(alpha=2, p=1, u=2, max_n=5)"
   ]
  },
  {
   "cell_type": "code",
   "execution_count": 148,
   "metadata": {},
   "outputs": [
    {
     "data": {
      "text/plain": [
       "[Decimal('0.2421278438586878666321517207'),\n",
       " Decimal('0.2736164684239362911483005367'),\n",
       " Decimal('0.2106392192934394694952350879'),\n",
       " Decimal('0.1331903222283100183024896081'),\n",
       " Decimal('0.07383098508147132572423267420')]"
      ]
     },
     "execution_count": 148,
     "metadata": {},
     "output_type": "execute_result"
    }
   ],
   "source": [
    "dist.probabilities"
   ]
  },
  {
   "cell_type": "code",
   "execution_count": 149,
   "metadata": {
    "scrolled": false
   },
   "outputs": [
    {
     "data": {
      "text/plain": [
       "2"
      ]
     },
     "execution_count": 149,
     "metadata": {},
     "output_type": "execute_result"
    }
   ],
   "source": [
    "dist.generate_sample(1000)\n",
    "1 + 1"
   ]
  },
  {
   "cell_type": "code",
   "execution_count": 152,
   "metadata": {},
   "outputs": [
    {
     "data": {
      "text/plain": [
       "{'x': array([0., 1., 2., 3., 4.]), 'y': array([249, 255, 217, 153,  72])}"
      ]
     },
     "execution_count": 152,
     "metadata": {},
     "output_type": "execute_result"
    }
   ],
   "source": [
    "dist.make_hist_dict(True)"
   ]
  },
  {
   "cell_type": "code",
   "execution_count": 4,
   "metadata": {},
   "outputs": [],
   "source": [
    "import random\n",
    "from datetime import datetime\n",
    "import numpy as np\n",
    "from collections import Counter"
   ]
  },
  {
   "cell_type": "code",
   "execution_count": 70,
   "metadata": {},
   "outputs": [
    {
     "name": "stdout",
     "output_type": "stream",
     "text": [
      "GNB(α=2, p=1, u=2)\n"
     ]
    }
   ],
   "source": [
    "print(dist)"
   ]
  },
  {
   "cell_type": "code",
   "execution_count": 76,
   "metadata": {},
   "outputs": [
    {
     "data": {
      "text/plain": [
       "11"
      ]
     },
     "execution_count": 76,
     "metadata": {},
     "output_type": "execute_result"
    }
   ],
   "source": [
    "dist.max_n"
   ]
  },
  {
   "cell_type": "code",
   "execution_count": 77,
   "metadata": {},
   "outputs": [
    {
     "data": {
      "text/plain": [
       "10"
      ]
     },
     "execution_count": 77,
     "metadata": {},
     "output_type": "execute_result"
    }
   ],
   "source": [
    "len(dist.probabilities)"
   ]
  },
  {
   "cell_type": "code",
   "execution_count": 151,
   "metadata": {},
   "outputs": [
    {
     "data": {
      "text/plain": [
       "Counter({3: 153, 2: 217, 1: 255, 0: 249, 5: 54, 4: 72})"
      ]
     },
     "execution_count": 151,
     "metadata": {},
     "output_type": "execute_result"
    }
   ],
   "source": [
    "Counter(dist.sample)"
   ]
  },
  {
   "cell_type": "code",
   "execution_count": 155,
   "metadata": {},
   "outputs": [
    {
     "data": {
      "text/plain": [
       "4"
      ]
     },
     "execution_count": 155,
     "metadata": {},
     "output_type": "execute_result"
    }
   ],
   "source": [
    "max([1,2,3,4])"
   ]
  },
  {
   "cell_type": "code",
   "execution_count": 157,
   "metadata": {},
   "outputs": [],
   "source": [
    "import pandas as pd"
   ]
  },
  {
   "cell_type": "code",
   "execution_count": 162,
   "metadata": {},
   "outputs": [
    {
     "data": {
      "text/html": [
       "<div>\n",
       "<style scoped>\n",
       "    .dataframe tbody tr th:only-of-type {\n",
       "        vertical-align: middle;\n",
       "    }\n",
       "\n",
       "    .dataframe tbody tr th {\n",
       "        vertical-align: top;\n",
       "    }\n",
       "\n",
       "    .dataframe thead th {\n",
       "        text-align: right;\n",
       "    }\n",
       "</style>\n",
       "<table border=\"1\" class=\"dataframe\">\n",
       "  <thead>\n",
       "    <tr style=\"text-align: right;\">\n",
       "      <th></th>\n",
       "      <th>0</th>\n",
       "    </tr>\n",
       "  </thead>\n",
       "  <tbody>\n",
       "    <tr>\n",
       "      <th>0</th>\n",
       "      <td>1</td>\n",
       "    </tr>\n",
       "    <tr>\n",
       "      <th>1</th>\n",
       "      <td>2</td>\n",
       "    </tr>\n",
       "    <tr>\n",
       "      <th>2</th>\n",
       "      <td>3</td>\n",
       "    </tr>\n",
       "    <tr>\n",
       "      <th>3</th>\n",
       "      <td>4</td>\n",
       "    </tr>\n",
       "    <tr>\n",
       "      <th>4</th>\n",
       "      <td>5</td>\n",
       "    </tr>\n",
       "  </tbody>\n",
       "</table>\n",
       "</div>"
      ],
      "text/plain": [
       "   0\n",
       "0  1\n",
       "1  2\n",
       "2  3\n",
       "3  4\n",
       "4  5"
      ]
     },
     "execution_count": 162,
     "metadata": {},
     "output_type": "execute_result"
    }
   ],
   "source": [
    "pd.read_csv(\"test.csv\", header=None)"
   ]
  },
  {
   "cell_type": "code",
   "execution_count": 40,
   "metadata": {},
   "outputs": [],
   "source": [
    "from main import GNBDistribution"
   ]
  },
  {
   "cell_type": "code",
   "execution_count": 43,
   "metadata": {},
   "outputs": [],
   "source": [
    "from scipy.stats import gengamma"
   ]
  },
  {
   "cell_type": "code",
   "execution_count": 47,
   "metadata": {},
   "outputs": [
    {
     "data": {
      "text/plain": [
       "1.0"
      ]
     },
     "execution_count": 47,
     "metadata": {},
     "output_type": "execute_result"
    }
   ],
   "source": [
    "import math\n",
    "math.exp(0)"
   ]
  },
  {
   "cell_type": "code",
   "execution_count": 94,
   "metadata": {},
   "outputs": [],
   "source": [
    "def gengamma(x, v, q, t):\n",
    "#     x = D(x)\n",
    "    return (abs(v) * x ** (v * q - 1) * math.exp(1) ** (-((x/t)**v))) / (t ** (v * q) * math.gamma(q))"
   ]
  },
  {
   "cell_type": "code",
   "execution_count": 95,
   "metadata": {},
   "outputs": [],
   "source": [
    "lsp = np.linspace(0, 10, 1000)"
   ]
  },
  {
   "cell_type": "code",
   "execution_count": 96,
   "metadata": {},
   "outputs": [
    {
     "data": {
      "text/plain": [
       "<Figure size 432x288 with 0 Axes>"
      ]
     },
     "metadata": {},
     "output_type": "display_data"
    }
   ],
   "source": [
    "fig = plt.figure()"
   ]
  },
  {
   "cell_type": "code",
   "execution_count": 97,
   "metadata": {},
   "outputs": [
    {
     "data": {
      "text/plain": [
       "[<matplotlib.lines.Line2D at 0x1a265a7be0>]"
      ]
     },
     "execution_count": 97,
     "metadata": {},
     "output_type": "execute_result"
    },
    {
     "data": {
      "image/png": "[encoded data removed]",
      "text/plain": [
       "<Figure size 432x288 with 1 Axes>"
      ]
     },
     "metadata": {
      "needs_background": "light"
     },
     "output_type": "display_data"
    }
   ],
   "source": []
  },
  {
   "cell_type": "code",
   "execution_count": 111,
   "metadata": {},
   "outputs": [
    {
     "data": {
      "text/plain": [
       "[<matplotlib.lines.Line2D at 0x1a28ac4978>]"
      ]
     },
     "execution_count": 111,
     "metadata": {},
     "output_type": "execute_result"
    },
    {
     "data": {
      "image/png": "[encoded data removed]",
      "text/plain": [
       "<Figure size 432x288 with 1 Axes>"
      ]
     },
     "metadata": {
      "needs_background": "light"
     },
     "output_type": "display_data"
    }
   ],
   "source": [
    "\n",
    "plt.bar(list(range(10)), hist[0]/10000, width=1, align='edge')\n",
    "plt.plot(lsp, gengamma(lsp, float(u), float(p), float(alpha)), color='orange')\n"
   ]
  },
  {
   "cell_type": "code",
   "execution_count": 104,
   "metadata": {},
   "outputs": [
    {
     "data": {
      "text/plain": [
       "[0, 1, 2, 3, 4, 5, 6, 7, 8, 9]"
      ]
     },
     "execution_count": 104,
     "metadata": {},
     "output_type": "execute_result"
    }
   ],
   "source": [
    "def pois(x, l):\n",
    "    return math.exp(-l)"
   ]
  },
  {
   "cell_type": "code",
   "execution_count": 93,
   "metadata": {},
   "outputs": [],
   "source": [
    "%matplotlib inline"
   ]
  },
  {
   "cell_type": "code",
   "execution_count": 5,
   "metadata": {},
   "outputs": [],
   "source": [
    "from scipy.stats import chi2"
   ]
  },
  {
   "cell_type": "code",
   "execution_count": 6,
   "metadata": {},
   "outputs": [
    {
     "data": {
      "text/plain": [
       "18.307038053275146"
      ]
     },
     "execution_count": 6,
     "metadata": {},
     "output_type": "execute_result"
    }
   ],
   "source": [
    "chi2.ppf(0.95, 10)"
   ]
  },
  {
   "cell_type": "code",
   "execution_count": 8,
   "metadata": {},
   "outputs": [
    {
     "data": {
      "text/plain": [
       "0.36143007689620493"
      ]
     },
     "execution_count": 8,
     "metadata": {},
     "output_type": "execute_result"
    }
   ],
   "source": [
    "chi2.cdf(3.4, 5)"
   ]
  },
  {
   "cell_type": "code",
   "execution_count": 1,
   "metadata": {},
   "outputs": [],
   "source": [
    "import gexpmath as gm\n",
    "import decimal\n",
    "D = decimal.Decimal\n",
    "alpha = D('1.5')\n",
    "p = D('2')\n",
    "u = D('1.3')"
   ]
  },
  {
   "cell_type": "code",
   "execution_count": 2,
   "metadata": {},
   "outputs": [],
   "source": [
    "dist = gm.GNBDistribution(alpha, p, u)"
   ]
  },
  {
   "cell_type": "code",
   "execution_count": 3,
   "metadata": {},
   "outputs": [
    {
     "data": {
      "text/plain": [
       "<gexpmath.GNBDistribution at 0x107ea8160>"
      ]
     },
     "execution_count": 3,
     "metadata": {},
     "output_type": "execute_result"
    }
   ],
   "source": [
    "dist"
   ]
  },
  {
   "cell_type": "code",
   "execution_count": 4,
   "metadata": {},
   "outputs": [
    {
     "name": "stdout",
     "output_type": "stream",
     "text": [
      "GNB(v=1.5, q=2, θ=1.3)\n"
     ]
    }
   ],
   "source": [
    "print(dist)"
   ]
  },
  {
   "cell_type": "code",
   "execution_count": 5,
   "metadata": {},
   "outputs": [
    {
     "name": "stdout",
     "output_type": "stream",
     "text": [
      "[Decimal('0.2011551909168479236774080849'), Decimal('0.2654027168813567522947363378'), Decimal('0.2212700188233540124224343407'), Decimal('0.1468174030894479362096654006'), Decimal('0.08444448405472587547413935124'), Decimal('0.04384039142919859774966392543'), Decimal('0.02104111368955381590233101545'), Decimal('0.009480102900717887953550588412'), Decimal('0.004052505944030534521987145134'), Decimal('0.001656283657414724735466573095')]\n",
      "------------------------------\n",
      "0.9991602113866480609413827626\n"
     ]
    }
   ],
   "source": [
    "sample = dist.generate_sample(1000)"
   ]
  },
  {
   "cell_type": "code",
   "execution_count": 6,
   "metadata": {},
   "outputs": [
    {
     "data": {
      "text/plain": [
       "10"
      ]
     },
     "execution_count": 6,
     "metadata": {},
     "output_type": "execute_result"
    }
   ],
   "source": [
    "max(sample)"
   ]
  },
  {
   "cell_type": "code",
   "execution_count": 7,
   "metadata": {},
   "outputs": [
    {
     "data": {
      "text/plain": [
       "(True,\n",
       " Decimal('5.304421852517501876846452016'),\n",
       " 16.918977604620448,\n",
       " 0.8070047317646576)"
      ]
     },
     "execution_count": 7,
     "metadata": {},
     "output_type": "execute_result"
    }
   ],
   "source": [
    "dist.chi_square(0.05)"
   ]
  },
  {
   "cell_type": "code",
   "execution_count": 7,
   "metadata": {},
   "outputs": [],
   "source": [
    "from scipy.stats import chi2"
   ]
  },
  {
   "cell_type": "code",
   "execution_count": 8,
   "metadata": {},
   "outputs": [
    {
     "data": {
      "text/plain": [
       "0.0"
      ]
     },
     "execution_count": 8,
     "metadata": {},
     "output_type": "execute_result"
    }
   ],
   "source": [
    "chi2.cdf(3172, 12184)"
   ]
  },
  {
   "cell_type": "code",
   "execution_count": 9,
   "metadata": {},
   "outputs": [],
   "source": [
    "probs = dist.make_hist_dict(density=True)['y'][:-1]"
   ]
  },
  {
   "cell_type": "code",
   "execution_count": null,
   "metadata": {},
   "outputs": [],
   "source": []
  },
  {
   "cell_type": "code",
   "execution_count": 10,
   "metadata": {},
   "outputs": [],
   "source": [
    "import numpy as np"
   ]
  },
  {
   "cell_type": "code",
   "execution_count": 11,
   "metadata": {},
   "outputs": [
    {
     "data": {
      "text/plain": [
       "array([0.2011, 0.2675, 0.2272, 0.1427, 0.0829, 0.0404, 0.0222, 0.0098,\n",
       "       0.0036, 0.0022])"
      ]
     },
     "execution_count": 11,
     "metadata": {},
     "output_type": "execute_result"
    }
   ],
   "source": [
    "probs"
   ]
  },
  {
   "cell_type": "code",
   "execution_count": null,
   "metadata": {
    "scrolled": true
   },
   "outputs": [],
   "source": []
  },
  {
   "cell_type": "code",
   "execution_count": 12,
   "metadata": {},
   "outputs": [],
   "source": []
  },
  {
   "cell_type": "code",
   "execution_count": 13,
   "metadata": {},
   "outputs": [
    {
     "data": {
      "text/plain": [
       "[Decimal('0.2061274695487038049504296186'),\n",
       " Decimal('0.2635154871675420419366996630'),\n",
       " Decimal('0.2182475509211180347870623884'),\n",
       " Decimal('0.1454731361613337481106301021'),\n",
       " Decimal('0.08439032632890625933865410490'),\n",
       " Decimal('0.04423905403058457129215024433'),\n",
       " Decimal('0.02142678906274106311463501754'),\n",
       " Decimal('0.009727359137112137733799234602'),\n",
       " Decimal('0.004180951241225030213061829758'),\n",
       " Decimal('0.001713834424223963519644892699')]"
      ]
     },
     "execution_count": 13,
     "metadata": {},
     "output_type": "execute_result"
    }
   ],
   "source": [
    "dist2.probabilities"
   ]
  },
  {
   "cell_type": "code",
   "execution_count": 14,
   "metadata": {
    "scrolled": true
   },
   "outputs": [
    {
     "name": "stdout",
     "output_type": "stream",
     "text": [
      "   0    1.575000    1.050000    2.100000\n",
      "   1    1.575000    1.050000    2.100000\n",
      "   2    1.550000    1.166667    2.033333\n",
      "   3    1.550000    1.166667    2.033333\n",
      "   4    1.741667    1.222222    2.044444\n",
      "   5    1.741667    1.222222    2.044444\n",
      "   6    1.822222    1.412963    1.792593\n",
      "   7    1.822222    1.412963    1.792593\n",
      "   8    1.989506    1.411934    1.753498\n",
      "   9    1.989506    1.411934    1.753498\n",
      "  10    1.989506    1.411934    1.753498\n",
      "  11    1.989506    1.411934    1.753498\n",
      "  12    1.989506    1.411934    1.753498\n",
      "  13    1.989506    1.411934    1.753498\n",
      "  14    1.989506    1.411934    1.753498\n",
      "  15    1.989506    1.411934    1.753498\n",
      "  16    1.910329    1.377915    1.778226\n",
      "  17    1.945537    1.434793    1.726080\n",
      "  18    1.945537    1.434793    1.726080\n",
      "  19    1.958635    1.412546    1.751827\n",
      "  20    1.927098    1.401308    1.759791\n",
      "  21    1.927098    1.401308    1.759791\n",
      "  22    1.942989    1.423287    1.739315\n",
      "  23    1.911817    1.418177    1.744931\n",
      "  24    1.923156    1.410642    1.749003\n",
      "  25    1.924877    1.433429    1.729041\n",
      "  26    1.931470    1.422018    1.740153\n",
      "  27    1.931470    1.422018    1.740153\n",
      "  28    1.924162    1.417913    1.743061\n",
      "  29    1.922998    1.422279    1.739792\n",
      "  30    1.922998    1.422279    1.739792\n",
      "  31    1.922998    1.422279    1.739792\n",
      "  32    1.922998    1.422279    1.739792\n",
      "  33    1.918953    1.431754    1.731106\n",
      "  34    1.918953    1.431754    1.731106\n",
      "  35    1.918953    1.431754    1.731106\n",
      "  36    1.910625    1.441038    1.723205\n",
      "  37    1.910625    1.441038    1.723205\n",
      "  38    1.910625    1.441038    1.723205\n",
      "  39    1.897783    1.464897    1.702196\n",
      "  40    1.888151    1.475100    1.692689\n",
      "  41    1.876646    1.485103    1.684961\n",
      "  42    1.876646    1.485103    1.684961\n",
      "  43    1.833659    1.539438    1.636616\n",
      "  44    1.828338    1.547280    1.630602\n",
      "  45    1.828002    1.538851    1.638094\n",
      "  46    1.828002    1.538851    1.638094\n",
      "  47    1.839449    1.526969    1.649202\n",
      "  48    1.810537    1.561921    1.618566\n",
      "  49    1.810537    1.561921    1.618566\n",
      "  50    1.817636    1.549069    1.631554\n",
      "  51    1.817636    1.549069    1.631554\n",
      "  52    1.793618    1.583085    1.601706\n",
      "  53    1.811252    1.562242    1.621102\n",
      "  54    1.811252    1.562242    1.621102\n",
      "  55    1.811252    1.562242    1.621102\n",
      "  56    1.811252    1.562242    1.621102\n",
      "  57    1.797937    1.587136    1.601286\n",
      "  58    1.797937    1.587136    1.601286\n",
      "  59    1.797937    1.587136    1.601286\n",
      "  60    1.780718    1.611357    1.580414\n",
      "  61    1.761016    1.637729    1.560781\n",
      "  62    1.761016    1.637729    1.560781\n",
      "  63    1.761016    1.637729    1.560781\n",
      "  64    1.716659    1.708760    1.506078\n",
      "  65    1.716659    1.708760    1.506078\n",
      "  66    1.716659    1.708760    1.506078\n",
      "  67    1.716659    1.708760    1.506078\n",
      "  68    1.676382    1.773329    1.459591\n",
      "  69    1.676382    1.773329    1.459591\n",
      "  70    1.676382    1.773329    1.459591\n",
      "  71    1.676382    1.773329    1.459591\n",
      "  72    1.617844    1.879881    1.382024\n",
      "  73    1.616592    1.873416    1.387248\n",
      "  74    1.636414    1.851153    1.405500\n",
      "  75    1.636414    1.851153    1.405500\n",
      "  76    1.636414    1.851153    1.405500\n",
      "  77    1.602731    1.905079    1.365620\n",
      "  78    1.626898    1.873511    1.389544\n",
      "  79    1.617939    1.889003    1.379707\n",
      "  80    1.617939    1.889003    1.379707\n",
      "  81    1.618702    1.892338    1.377357\n",
      "  82    1.578143    1.961562    1.329057\n",
      "  83    1.578143    1.961562    1.329057\n",
      "  84    1.578143    1.961562    1.329057\n",
      "  85    1.578143    1.961562    1.329057\n",
      "  86    1.578143    1.961562    1.329057\n",
      "  87    1.580627    1.960828    1.330930\n",
      "  88    1.580627    1.960828    1.330930\n",
      "  89    1.580627    1.960828    1.330930\n",
      "  90    1.547081    2.024228    1.289532\n",
      "  91    1.547081    2.024228    1.289532\n",
      "  92    1.547081    2.024228    1.289532\n",
      "  93    1.521987    2.075006    1.258015\n",
      "  94    1.515475    2.089951    1.248190\n",
      "  95    1.515475    2.089951    1.248190\n",
      "  96    1.515475    2.089951    1.248190\n",
      "  97    1.516761    2.091736    1.248814\n",
      "  98    1.488750    2.149901    1.211220\n",
      "  99    1.513503    2.102832    1.241904\n",
      " 100    1.488064    2.164568    1.205558\n",
      " 101    1.488064    2.164568    1.205558\n",
      " 102    1.488064    2.164568    1.205558\n",
      " 103    1.460941    2.232973    1.164646\n",
      " 104    1.460941    2.232973    1.164646\n",
      " 105    1.460941    2.232973    1.164646\n",
      " 106    1.460941    2.232973    1.164646\n",
      " 107    1.460990    2.239091    1.162022\n",
      " 108    1.460990    2.239091    1.162022\n",
      " 109    1.467554    2.220835    1.173092\n",
      " 110    1.467554    2.220835    1.173092\n",
      " 111    1.458909    2.252251    1.156437\n",
      " 112    1.456729    2.253175    1.156099\n",
      " 113    1.456729    2.253175    1.156099\n",
      " 114    1.437185    2.313937    1.122596\n",
      " 115    1.437185    2.313937    1.122596\n",
      " 116    1.421324    2.358672    1.099664\n",
      " 117    1.421324    2.358672    1.099664\n",
      " 118    1.421324    2.358672    1.099664\n",
      " 119    1.421324    2.358672    1.099664\n",
      " 120    1.400445    2.411843    1.070375\n",
      " 121    1.396948    2.428562    1.064246\n",
      " 122    1.396948    2.428562    1.064246\n",
      " 123    1.396948    2.428562    1.064246\n",
      " 124    1.396948    2.428562    1.064246\n",
      " 125    1.396948    2.428562    1.064246\n",
      " 126    1.386545    2.462461    1.047383\n",
      " 127    1.386545    2.462461    1.047383\n",
      " 128    1.386545    2.462461    1.047383\n",
      " 129    1.386545    2.462461    1.047383\n",
      " 130    1.384128    2.466157    1.045006\n",
      " 131    1.384128    2.466157    1.045006\n",
      " 132    1.384128    2.466157    1.045006\n",
      " 133    1.384128    2.466157    1.045006\n",
      " 134    1.384128    2.466157    1.045006\n",
      " 135    1.384128    2.466157    1.045006\n",
      " 136    1.384128    2.466157    1.045006\n",
      " 137    1.384128    2.466157    1.045006\n",
      " 138    1.384311    2.463451    1.045940\n",
      " 139    1.384311    2.463451    1.045940\n",
      " 140    1.384311    2.463451    1.045940\n",
      " 141    1.384311    2.463451    1.045940\n",
      " 142    1.384311    2.463451    1.045940\n",
      " 143    1.384311    2.463451    1.045940\n",
      " 144    1.384311    2.463451    1.045940\n",
      " 145    1.383799    2.467045    1.044620\n",
      " 146    1.383799    2.467045    1.044620\n",
      " 147    1.384124    2.464366    1.045560\n",
      " 148    1.384124    2.464366    1.045560\n",
      " 149    1.384124    2.464366    1.045560\n",
      " 150    1.384124    2.464366    1.045560\n",
      " 151    1.384124    2.464366    1.045560\n",
      " 152    1.384080    2.464687    1.045452\n",
      " 153    1.384080    2.464687    1.045452\n",
      " 154    1.384080    2.464687    1.045452\n",
      " 155    1.384052    2.464780    1.045404\n",
      " 156    1.384052    2.464780    1.045404\n",
      " 157    1.384052    2.464780    1.045404\n",
      " 158    1.384052    2.464780    1.045404\n",
      " 159    1.384052    2.464780    1.045404\n",
      " 160    1.384052    2.464780    1.045404\n",
      " 161    1.384042    2.464829    1.045380\n",
      " 162    1.384022    2.464927    1.045341\n",
      " 163    1.384022    2.464927    1.045341\n",
      " 164    1.383994    2.465171    1.045253\n",
      " 165    1.383994    2.465171    1.045253\n",
      " 166    1.383994    2.465171    1.045253\n",
      " 167    1.383994    2.465171    1.045253\n",
      " 168    1.383994    2.465171    1.045253\n",
      " 169    1.383994    2.465171    1.045253\n",
      " 170    1.383994    2.465171    1.045253\n",
      " 171    1.384005    2.465069    1.045289\n",
      " 172    1.384005    2.465069    1.045289\n",
      " 173    1.384005    2.465069    1.045289\n",
      " 174    1.383979    2.465284    1.045212\n",
      " 175    1.383979    2.465284    1.045212\n",
      " 176    1.383979    2.465284    1.045212\n",
      " 177    1.383979    2.465284    1.045212\n",
      " 178    1.383979    2.465284    1.045212\n",
      " 179    1.383979    2.465284    1.045212\n",
      " 180    1.383988    2.465208    1.045239\n",
      " 181    1.383983    2.465243    1.045226\n",
      " 182    1.383983    2.465243    1.045226\n",
      " 183    1.383983    2.465243    1.045226\n",
      " 184    1.383983    2.465243    1.045226\n",
      " 185    1.383983    2.465243    1.045226\n",
      " 186    1.383983    2.465243    1.045226\n",
      " 187    1.383983    2.465243    1.045226\n",
      " 188    1.383983    2.465243    1.045226\n",
      " 189    1.383983    2.465243    1.045226\n",
      " 190    1.383983    2.465243    1.045226\n",
      " 191    1.383983    2.465243    1.045226\n",
      " 192    1.383983    2.465243    1.045226\n",
      " 193    1.383982    2.465253    1.045222\n",
      " 194    1.383982    2.465253    1.045222\n",
      " 195    1.383982    2.465253    1.045222\n",
      " 196    1.383982    2.465253    1.045222\n",
      " 197    1.383979    2.465279    1.045213\n",
      " 198    1.383979    2.465279    1.045213\n",
      " 199    1.383981    2.465264    1.045218\n"
     ]
    },
    {
     "name": "stdout",
     "output_type": "stream",
     "text": [
      " 200    1.383981    2.465264    1.045218\n",
      " 201    1.383981    2.465264    1.045218\n",
      " 202    1.383978    2.465283    1.045212\n",
      " 203    1.383978    2.465283    1.045212\n",
      " 204    1.383978    2.465283    1.045212\n",
      " 205    1.383978    2.465283    1.045212\n",
      " 206    1.383978    2.465283    1.045212\n",
      " 207    1.383978    2.465283    1.045212\n",
      " 208    1.383978    2.465283    1.045212\n",
      " 209    1.383978    2.465283    1.045212\n",
      " 210    1.383978    2.465283    1.045212\n",
      " 211    1.383978    2.465283    1.045212\n",
      " 212    1.383978    2.465283    1.045212\n",
      " 213    1.383978    2.465283    1.045212\n",
      " 214    1.383978    2.465283    1.045212\n",
      " 215    1.383978    2.465283    1.045212\n",
      " 216    1.383978    2.465283    1.045212\n",
      " 217    1.383979    2.465280    1.045213\n",
      " 218    1.383979    2.465280    1.045213\n",
      " 219    1.383979    2.465280    1.045213\n",
      " 220    1.383979    2.465280    1.045213\n",
      " 221    1.383979    2.465280    1.045213\n",
      " 222    1.383978    2.465283    1.045211\n",
      " 223    1.383978    2.465283    1.045211\n",
      " 224    1.383979    2.465281    1.045212\n",
      " 225    1.383979    2.465281    1.045212\n",
      " 226    1.383979    2.465281    1.045212\n",
      " 227    1.383979    2.465281    1.045212\n",
      " 228    1.383979    2.465281    1.045212\n",
      " 229    1.383978    2.465281    1.045212\n",
      " 230    1.383978    2.465281    1.045212\n",
      " 231    1.383978    2.465281    1.045212\n",
      " 232    1.383978    2.465281    1.045212\n",
      " 233    1.383978    2.465281    1.045212\n",
      " 234    1.383978    2.465281    1.045212\n",
      " 235    1.383979    2.465281    1.045212\n",
      " 236    1.383979    2.465281    1.045212\n",
      " 237    1.383979    2.465281    1.045212\n",
      " 238    1.383979    2.465281    1.045212\n",
      " 239    1.383978    2.465281    1.045212\n",
      " 240    1.383978    2.465281    1.045212\n",
      " 241    1.383978    2.465281    1.045212\n",
      " 242    1.383979    2.465281    1.045212\n",
      " 243    1.383979    2.465281    1.045212\n",
      " 244    1.383979    2.465281    1.045212\n",
      " 245    1.383979    2.465281    1.045212\n",
      " 246    1.383979    2.465281    1.045212\n",
      " 247    1.383979    2.465281    1.045212\n",
      " 248    1.383979    2.465281    1.045212\n",
      " 249    1.383979    2.465281    1.045212\n",
      " 250    1.383979    2.465281    1.045212\n",
      " 251    1.383979    2.465281    1.045212\n",
      " 252    1.383979    2.465281    1.045212\n",
      " 253    1.383979    2.465281    1.045212\n",
      " 254    1.383979    2.465281    1.045212\n",
      " 255    1.383979    2.465281    1.045212\n",
      " 256    1.383979    2.465281    1.045212\n"
     ]
    }
   ],
   "source": [
    "res = gm.l2optimization(probs)"
   ]
  },
  {
   "cell_type": "code",
   "execution_count": 16,
   "metadata": {},
   "outputs": [],
   "source": [
    "dist2 = gm.GNBDistribution(res[0], res[1], res[2])"
   ]
  },
  {
   "cell_type": "code",
   "execution_count": 21,
   "metadata": {},
   "outputs": [
    {
     "name": "stdout",
     "output_type": "stream",
     "text": [
      "9.0\n",
      "15.707359853571177 0.9267500706237517\n"
     ]
    },
    {
     "data": {
      "text/plain": [
       "(True,\n",
       " Decimal('15.70735985357117748701097939'),\n",
       " 3.3251128430668158,\n",
       " Decimal('0.0732499293762483016934083934756927192211151123046875'))"
      ]
     },
     "execution_count": 21,
     "metadata": {},
     "output_type": "execute_result"
    },
    {
     "name": "stderr",
     "output_type": "stream",
     "text": [
      "ERROR:root:Invalid alias: The name clear can't be aliased because it is another magic command.\n",
      "ERROR:root:Invalid alias: The name more can't be aliased because it is another magic command.\n",
      "ERROR:root:Invalid alias: The name less can't be aliased because it is another magic command.\n",
      "ERROR:root:Invalid alias: The name man can't be aliased because it is another magic command.\n"
     ]
    }
   ],
   "source": [
    "dist2.chi_square(0.05, make_hist(sample))"
   ]
  },
  {
   "cell_type": "code",
   "execution_count": 19,
   "metadata": {},
   "outputs": [],
   "source": [
    "from main import make_hist "
   ]
  },
  {
   "cell_type": "code",
   "execution_count": 20,
   "metadata": {},
   "outputs": [
    {
     "data": {
      "text/plain": [
       "{'x': array([0., 1., 2., 3., 4., 5., 6., 7., 8., 9.]),\n",
       " 'y': array([2011, 2675, 2272, 1427,  829,  404,  222,   98,   36,   26])}"
      ]
     },
     "execution_count": 20,
     "metadata": {},
     "output_type": "execute_result"
    }
   ],
   "source": [
    "make_hist(sample)"
   ]
  },
  {
   "cell_type": "code",
   "execution_count": 32,
   "metadata": {},
   "outputs": [],
   "source": [
    "from scipy.stats import nbinom"
   ]
  },
  {
   "cell_type": "code",
   "execution_count": 40,
   "metadata": {},
   "outputs": [
    {
     "data": {
      "text/plain": [
       "0.2962954080000001"
      ]
     },
     "execution_count": 40,
     "metadata": {},
     "output_type": "execute_result"
    }
   ],
   "source": [
    "nbinom.pmf(1, 2, 0.666)"
   ]
  },
  {
   "cell_type": "code",
   "execution_count": null,
   "metadata": {},
   "outputs": [],
   "source": []
  }
 ],
 "metadata": {
  "kernelspec": {
   "display_name": "Python 3",
   "language": "python",
   "name": "python3"
  },
  "language_info": {
   "codemirror_mode": {
    "name": "ipython",
    "version": 3
   },
   "file_extension": ".py",
   "mimetype": "text/x-python",
   "name": "python",
   "nbconvert_exporter": "python",
   "pygments_lexer": "ipython3",
   "version": "3.7.3"
  }
 },
 "nbformat": 4,
 "nbformat_minor": 2
}
